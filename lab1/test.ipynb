{
 "cells": [
  {
   "cell_type": "code",
   "execution_count": 2,
   "id": "45210dd4",
   "metadata": {},
   "outputs": [
    {
     "name": "stdout",
     "output_type": "stream",
     "text": [
      "Overwriting baie_t2.inp\n"
     ]
    }
   ],
   "source": [
    "%%writefile baie_t2.inp\n",
    "3 3 3"
   ]
  },
  {
   "cell_type": "code",
   "execution_count": 3,
   "id": "1b428246",
   "metadata": {},
   "outputs": [
    {
     "name": "stdout",
     "output_type": "stream",
     "text": [
      "Overwriting baie_t1.inp\n"
     ]
    }
   ],
   "source": [
    "%%writefile baie_t1.inp\n",
    "2 3 5"
   ]
  },
  {
   "cell_type": "code",
   "execution_count": 8,
   "id": "50d3bba2",
   "metadata": {},
   "outputs": [
    {
     "name": "stdout",
     "output_type": "stream",
     "text": [
      "Expected: 5\n",
      "5\n",
      "Expected: 3\n",
      "0\n"
     ]
    }
   ],
   "source": [
    "!g++ baie.cpp -o baie\n",
    "!./baie <baie_t1.inp >out1.txt\n",
    "!echo \"Expected: 5\"\n",
    "!cat out1.txt\n",
    "!echo \"Expected: 3\"\n",
    "!./baie <baie_t2.inp"
   ]
  },
  {
   "cell_type": "code",
   "execution_count": 5,
   "id": "337d68ec",
   "metadata": {},
   "outputs": [
    {
     "name": "stdout",
     "output_type": "stream",
     "text": [
      "baie  baie.cpp\tbaie_t1.inp  baie_t2.inp  out1.txt  test.ipynb\n"
     ]
    }
   ],
   "source": [
    "!ls\n",
    "!mkdir hello"
   ]
  }
 ],
 "metadata": {
  "kernelspec": {
   "display_name": "Python 3",
   "language": "python",
   "name": "python3"
  },
  "language_info": {
   "codemirror_mode": {
    "name": "ipython",
    "version": 3
   },
   "file_extension": ".py",
   "mimetype": "text/x-python",
   "name": "python",
   "nbconvert_exporter": "python",
   "pygments_lexer": "ipython3",
   "version": "3.12.1"
  }
 },
 "nbformat": 4,
 "nbformat_minor": 5
}
